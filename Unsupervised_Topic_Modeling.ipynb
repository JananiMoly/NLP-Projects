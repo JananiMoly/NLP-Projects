{
  "nbformat": 4,
  "nbformat_minor": 5,
  "metadata": {
    "kernelspec": {
      "display_name": "Python 3",
      "language": "python",
      "name": "python3"
    },
    "language_info": {
      "codemirror_mode": {
        "name": "ipython",
        "version": 3
      },
      "file_extension": ".py",
      "mimetype": "text/x-python",
      "name": "python",
      "nbconvert_exporter": "python",
      "pygments_lexer": "ipython3",
      "version": "3.8.8"
    },
    "colab": {
      "name": "Unsupervised Topic Modeling.ipynb",
      "provenance": [],
      "collapsed_sections": []
    },
    "accelerator": "GPU"
  },
  "cells": [
    {
      "cell_type": "code",
      "metadata": {
        "id": "4a1374c1"
      },
      "source": [
        "import numpy as np\n",
        "from sklearn.datasets import fetch_20newsgroups\n",
        "from sklearn import decomposition\n",
        "from scipy import linalg\n",
        "import matplotlib.pyplot as plt\n",
        "%matplotlib inline\n",
        "np.set_printoptions(suppress=True)"
      ],
      "id": "4a1374c1",
      "execution_count": 1,
      "outputs": []
    },
    {
      "cell_type": "markdown",
      "metadata": {
        "id": "DvkEovJ0LrhX"
      },
      "source": [
        "**Using the fetch_20newsgroups dataset present in sklearn library and creating a model to detect the topics pertaining to 4 categories - *Atheism*, *Computer Graphics*, *Space* and *Religion***"
      ],
      "id": "DvkEovJ0LrhX"
    },
    {
      "cell_type": "code",
      "metadata": {
        "id": "c6fd6fc0"
      },
      "source": [
        "categories = ['alt.atheism','talk.religion.misc','comp.graphics','sci.space']\n",
        "remove = ('headers','footers','quotes')\n",
        "newsgroup_train = fetch_20newsgroups(subset ='train',categories=categories,remove = remove)\n",
        "newsgroup_test = fetch_20newsgroups(subset ='test',categories=categories,remove = remove)"
      ],
      "id": "c6fd6fc0",
      "execution_count": 2,
      "outputs": []
    },
    {
      "cell_type": "code",
      "metadata": {
        "colab": {
          "base_uri": "https://localhost:8080/"
        },
        "id": "17c80f61",
        "outputId": "7c99deb2-39fb-48a8-9381-21c3eb3999db"
      },
      "source": [
        "newsgroup_train.filenames.shape, newsgroup_test.filenames.shape"
      ],
      "id": "17c80f61",
      "execution_count": 3,
      "outputs": [
        {
          "output_type": "execute_result",
          "data": {
            "text/plain": [
              "((2034,), (1353,))"
            ]
          },
          "metadata": {},
          "execution_count": 3
        }
      ]
    },
    {
      "cell_type": "code",
      "metadata": {
        "colab": {
          "base_uri": "https://localhost:8080/"
        },
        "id": "d6491656",
        "outputId": "7ea1f482-4984-45a7-b9e6-3e502adab9a7"
      },
      "source": [
        "#printing on the next line\n",
        "print(\"\\n\".join(newsgroup_train.data[:3]))"
      ],
      "id": "d6491656",
      "execution_count": 4,
      "outputs": [
        {
          "output_type": "stream",
          "name": "stdout",
          "text": [
            "Hi,\n",
            "\n",
            "I've noticed that if you only save a model (with all your mapping planes\n",
            "positioned carefully) to a .3DS file that when you reload it after restarting\n",
            "3DS, they are given a default position and orientation.  But if you save\n",
            "to a .PRJ file their positions/orientation are preserved.  Does anyone\n",
            "know why this information is not stored in the .3DS file?  Nothing is\n",
            "explicitly said in the manual about saving texture rules in the .PRJ file. \n",
            "I'd like to be able to read the texture rule information, does anyone have \n",
            "the format for the .PRJ file?\n",
            "\n",
            "Is the .CEL file format available from somewhere?\n",
            "\n",
            "Rych\n",
            "\n",
            "\n",
            "Seems to be, barring evidence to the contrary, that Koresh was simply\n",
            "another deranged fanatic who thought it neccessary to take a whole bunch of\n",
            "folks with him, children and all, to satisfy his delusional mania. Jim\n",
            "Jones, circa 1993.\n",
            "\n",
            "\n",
            "Nope - fruitcakes like Koresh have been demonstrating such evil corruption\n",
            "for centuries.\n",
            "\n",
            " >In article <1993Apr19.020359.26996@sq.sq.com>, msb@sq.sq.com (Mark Brader) \n",
            "\n",
            "MB>                                                             So the\n",
            "MB> 1970 figure seems unlikely to actually be anything but a perijove.\n",
            "\n",
            "JG>Sorry, _perijoves_...I'm not used to talking this language.\n",
            "\n",
            "Couldn't we just say periapsis or apoapsis?\n",
            "\n",
            " \n"
          ]
        }
      ]
    },
    {
      "cell_type": "code",
      "metadata": {
        "colab": {
          "base_uri": "https://localhost:8080/"
        },
        "id": "b979c352",
        "outputId": "f820461a-8743-4759-8bc5-14eec5b1595e"
      },
      "source": [
        "#specifically looking for the target names of the first three entries\n",
        "np.array(newsgroup_train.target_names)[newsgroup_train.target[:3]]"
      ],
      "id": "b979c352",
      "execution_count": 5,
      "outputs": [
        {
          "output_type": "execute_result",
          "data": {
            "text/plain": [
              "array(['comp.graphics', 'talk.religion.misc', 'sci.space'], dtype='<U18')"
            ]
          },
          "metadata": {},
          "execution_count": 5
        }
      ]
    },
    {
      "cell_type": "code",
      "metadata": {
        "colab": {
          "base_uri": "https://localhost:8080/"
        },
        "id": "9a38199c",
        "outputId": "56102b31-6cac-4421-d2c0-3cf45fd0c994"
      },
      "source": [
        "# the different labels of the target are as follows\n",
        "np.unique(newsgroup_train.target)"
      ],
      "id": "9a38199c",
      "execution_count": 6,
      "outputs": [
        {
          "output_type": "execute_result",
          "data": {
            "text/plain": [
              "array([0, 1, 2, 3])"
            ]
          },
          "metadata": {},
          "execution_count": 6
        }
      ]
    },
    {
      "cell_type": "code",
      "metadata": {
        "id": "10e0a664"
      },
      "source": [
        "num_of_topics,num_top_words = 6, 8"
      ],
      "id": "10e0a664",
      "execution_count": 7,
      "outputs": []
    },
    {
      "cell_type": "markdown",
      "metadata": {
        "id": "eWwSj3khhTGK"
      },
      "source": [
        "**Preprocessing the Text:**\n",
        "\n",
        "1. Removing Stopwords\n",
        "2. Lemmatizing words and comparing it with the stemming approach\n",
        "3. Using spacy to generate stop words and identifying the demerits of using spacy"
      ],
      "id": "eWwSj3khhTGK"
    },
    {
      "cell_type": "code",
      "metadata": {
        "id": "401c08e1"
      },
      "source": [
        "from sklearn.feature_extraction import _stop_words\n",
        "stop_words_sklearn = sorted(list(_stop_words.ENGLISH_STOP_WORDS))[:20]"
      ],
      "id": "401c08e1",
      "execution_count": 8,
      "outputs": []
    },
    {
      "cell_type": "code",
      "metadata": {
        "colab": {
          "base_uri": "https://localhost:8080/"
        },
        "id": "HuNi8LD_OEQL",
        "outputId": "e5c2f836-de00-4edf-f761-3a26dd482800"
      },
      "source": [
        "#stemming and lemmatization are used to generate the root form of words. \n",
        "\n",
        "#Lemmatization generates actual words and uses rules about a language, whereas stemming is a crude way to generate stop words. Stemming is faster. \n",
        "\n",
        "import nltk\n",
        "nltk.download('wordnet')"
      ],
      "id": "HuNi8LD_OEQL",
      "execution_count": 9,
      "outputs": [
        {
          "output_type": "stream",
          "name": "stdout",
          "text": [
            "[nltk_data] Downloading package wordnet to /root/nltk_data...\n",
            "[nltk_data]   Package wordnet is already up-to-date!\n"
          ]
        },
        {
          "output_type": "execute_result",
          "data": {
            "text/plain": [
              "True"
            ]
          },
          "metadata": {},
          "execution_count": 9
        }
      ]
    },
    {
      "cell_type": "code",
      "metadata": {
        "id": "My-asGcPPN6h"
      },
      "source": [
        "from nltk import stem\n",
        "wnl = stem.WordNetLemmatizer()\n",
        "poeter = stem.porter.PorterStemmer()"
      ],
      "id": "My-asGcPPN6h",
      "execution_count": 10,
      "outputs": []
    },
    {
      "cell_type": "code",
      "metadata": {
        "id": "1S3RveRzPvsz"
      },
      "source": [
        "wordlist = ['feet','foot','footing','foots']"
      ],
      "id": "1S3RveRzPvsz",
      "execution_count": 11,
      "outputs": []
    },
    {
      "cell_type": "code",
      "metadata": {
        "colab": {
          "base_uri": "https://localhost:8080/"
        },
        "id": "rosVeaGoQEHv",
        "outputId": "f28062e3-3c3a-47e4-a3fd-38d0c071a55a"
      },
      "source": [
        "[wnl.lemmatize(word) for word in wordlist]"
      ],
      "id": "rosVeaGoQEHv",
      "execution_count": 12,
      "outputs": [
        {
          "output_type": "execute_result",
          "data": {
            "text/plain": [
              "['foot', 'foot', 'footing', 'foot']"
            ]
          },
          "metadata": {},
          "execution_count": 12
        }
      ]
    },
    {
      "cell_type": "code",
      "metadata": {
        "colab": {
          "base_uri": "https://localhost:8080/"
        },
        "id": "eZWxpXJ0QL48",
        "outputId": "0d437a4d-4b3e-434a-e7f1-78344140c061"
      },
      "source": [
        "[poeter.stem(word) for word in wordlist]"
      ],
      "id": "eZWxpXJ0QL48",
      "execution_count": 13,
      "outputs": [
        {
          "output_type": "execute_result",
          "data": {
            "text/plain": [
              "['feet', 'foot', 'foot', 'foot']"
            ]
          },
          "metadata": {},
          "execution_count": 13
        }
      ]
    },
    {
      "cell_type": "code",
      "metadata": {
        "id": "KgLGJ8X3QpvI"
      },
      "source": [
        "wordlist1=['fly','flies','flying']\n",
        "wordlist2=['organize','organizes','organizing','organized']\n",
        "wordlist3=['universe','university']"
      ],
      "id": "KgLGJ8X3QpvI",
      "execution_count": 14,
      "outputs": []
    },
    {
      "cell_type": "code",
      "metadata": {
        "colab": {
          "base_uri": "https://localhost:8080/"
        },
        "id": "kfxOxDZ9RIxa",
        "outputId": "5e99d80a-ad96-4206-8d5e-d7ba2b942f4b"
      },
      "source": [
        "[wnl.lemmatize(word) for word in wordlist1]"
      ],
      "id": "kfxOxDZ9RIxa",
      "execution_count": 15,
      "outputs": [
        {
          "output_type": "execute_result",
          "data": {
            "text/plain": [
              "['fly', 'fly', 'flying']"
            ]
          },
          "metadata": {},
          "execution_count": 15
        }
      ]
    },
    {
      "cell_type": "code",
      "metadata": {
        "colab": {
          "base_uri": "https://localhost:8080/"
        },
        "id": "SxRi4MfCRN6Q",
        "outputId": "ad84c935-5aa2-47ef-ab3b-0783ad4d3a82"
      },
      "source": [
        "[wnl.lemmatize(word) for word in wordlist2]"
      ],
      "id": "SxRi4MfCRN6Q",
      "execution_count": 16,
      "outputs": [
        {
          "output_type": "execute_result",
          "data": {
            "text/plain": [
              "['organize', 'organizes', 'organizing', 'organized']"
            ]
          },
          "metadata": {},
          "execution_count": 16
        }
      ]
    },
    {
      "cell_type": "code",
      "metadata": {
        "colab": {
          "base_uri": "https://localhost:8080/"
        },
        "id": "dZncpyeaRPA-",
        "outputId": "e71559c4-ddf8-4434-ec7a-0dcf8e7f6716"
      },
      "source": [
        "[wnl.lemmatize(word) for word in wordlist3]"
      ],
      "id": "dZncpyeaRPA-",
      "execution_count": 17,
      "outputs": [
        {
          "output_type": "execute_result",
          "data": {
            "text/plain": [
              "['universe', 'university']"
            ]
          },
          "metadata": {},
          "execution_count": 17
        }
      ]
    },
    {
      "cell_type": "code",
      "metadata": {
        "colab": {
          "base_uri": "https://localhost:8080/"
        },
        "id": "YV8J9DuFRQOD",
        "outputId": "22536e4d-02fa-4fff-f3f1-f45aa442a823"
      },
      "source": [
        "[poeter.stem(word) for word in wordlist1]"
      ],
      "id": "YV8J9DuFRQOD",
      "execution_count": 18,
      "outputs": [
        {
          "output_type": "execute_result",
          "data": {
            "text/plain": [
              "['fli', 'fli', 'fli']"
            ]
          },
          "metadata": {},
          "execution_count": 18
        }
      ]
    },
    {
      "cell_type": "code",
      "metadata": {
        "colab": {
          "base_uri": "https://localhost:8080/"
        },
        "id": "c7k1lEZARWUE",
        "outputId": "4fff952e-1f3b-47cf-84a7-4574405f3f0e"
      },
      "source": [
        "[poeter.stem(word) for word in wordlist2]"
      ],
      "id": "c7k1lEZARWUE",
      "execution_count": 19,
      "outputs": [
        {
          "output_type": "execute_result",
          "data": {
            "text/plain": [
              "['organ', 'organ', 'organ', 'organ']"
            ]
          },
          "metadata": {},
          "execution_count": 19
        }
      ]
    },
    {
      "cell_type": "code",
      "metadata": {
        "colab": {
          "base_uri": "https://localhost:8080/"
        },
        "id": "1oydsfNoRXAS",
        "outputId": "7dfa435b-1988-4997-8452-ec4a446ec1a4"
      },
      "source": [
        "[poeter.stem(word) for word in wordlist3]"
      ],
      "id": "1oydsfNoRXAS",
      "execution_count": 20,
      "outputs": [
        {
          "output_type": "execute_result",
          "data": {
            "text/plain": [
              "['univers', 'univers']"
            ]
          },
          "metadata": {},
          "execution_count": 20
        }
      ]
    },
    {
      "cell_type": "code",
      "metadata": {
        "id": "i4l8jIV6RaLS"
      },
      "source": [
        "import spacy"
      ],
      "id": "i4l8jIV6RaLS",
      "execution_count": 21,
      "outputs": []
    },
    {
      "cell_type": "code",
      "metadata": {
        "colab": {
          "base_uri": "https://localhost:8080/"
        },
        "id": "c1c9J2-BSu63",
        "outputId": "f917e894-b8ab-46a3-972f-e452c3989e44"
      },
      "source": [
        "nlp = spacy.load(\"en_core_web_sm\")\n",
        "lemmatizer = nlp.Defaults.create_lemmatizer()\n",
        "[lemmatizer.lookup(word) for word in wordlist]"
      ],
      "id": "c1c9J2-BSu63",
      "execution_count": 22,
      "outputs": [
        {
          "output_type": "execute_result",
          "data": {
            "text/plain": [
              "['feet', 'foot', 'footing', 'foots']"
            ]
          },
          "metadata": {},
          "execution_count": 22
        }
      ]
    },
    {
      "cell_type": "code",
      "metadata": {
        "id": "byFjtcEcTSOa"
      },
      "source": [
        "stop_words_spacy = sorted(list(nlp.Defaults.stop_words))[:20]"
      ],
      "id": "byFjtcEcTSOa",
      "execution_count": 23,
      "outputs": []
    },
    {
      "cell_type": "code",
      "metadata": {
        "colab": {
          "base_uri": "https://localhost:8080/"
        },
        "id": "POC7aP_Per5b",
        "outputId": "a8ebe092-e09d-473a-80dc-d01b58141c96"
      },
      "source": [
        "_stop_words.ENGLISH_STOP_WORDS - nlp.Defaults.stop_words"
      ],
      "id": "POC7aP_Per5b",
      "execution_count": 24,
      "outputs": [
        {
          "output_type": "execute_result",
          "data": {
            "text/plain": [
              "frozenset({'amoungst',\n",
              "           'bill',\n",
              "           'cant',\n",
              "           'co',\n",
              "           'con',\n",
              "           'couldnt',\n",
              "           'cry',\n",
              "           'de',\n",
              "           'describe',\n",
              "           'detail',\n",
              "           'eg',\n",
              "           'etc',\n",
              "           'fill',\n",
              "           'find',\n",
              "           'fire',\n",
              "           'found',\n",
              "           'hasnt',\n",
              "           'ie',\n",
              "           'inc',\n",
              "           'interest',\n",
              "           'ltd',\n",
              "           'mill',\n",
              "           'sincere',\n",
              "           'system',\n",
              "           'thick',\n",
              "           'thin',\n",
              "           'un'})"
            ]
          },
          "metadata": {},
          "execution_count": 24
        }
      ]
    },
    {
      "cell_type": "code",
      "metadata": {
        "colab": {
          "base_uri": "https://localhost:8080/"
        },
        "id": "IdBPtgqKe_GM",
        "outputId": "cd33909d-9e39-4d2f-b402-8916e472b473"
      },
      "source": [
        "nlp.Defaults.stop_words - _stop_words.ENGLISH_STOP_WORDS"
      ],
      "id": "IdBPtgqKe_GM",
      "execution_count": 25,
      "outputs": [
        {
          "output_type": "execute_result",
          "data": {
            "text/plain": [
              "{\"'d\",\n",
              " \"'ll\",\n",
              " \"'m\",\n",
              " \"'re\",\n",
              " \"'s\",\n",
              " \"'ve\",\n",
              " 'ca',\n",
              " 'did',\n",
              " 'does',\n",
              " 'doing',\n",
              " 'just',\n",
              " 'make',\n",
              " \"n't\",\n",
              " 'n‘t',\n",
              " 'n’t',\n",
              " 'quite',\n",
              " 'really',\n",
              " 'regarding',\n",
              " 'say',\n",
              " 'unless',\n",
              " 'used',\n",
              " 'using',\n",
              " 'various',\n",
              " '‘d',\n",
              " '‘ll',\n",
              " '‘m',\n",
              " '‘re',\n",
              " '‘s',\n",
              " '‘ve',\n",
              " '’d',\n",
              " '’ll',\n",
              " '’m',\n",
              " '’re',\n",
              " '’s',\n",
              " '’ve'}"
            ]
          },
          "metadata": {},
          "execution_count": 25
        }
      ]
    },
    {
      "cell_type": "markdown",
      "metadata": {
        "id": "JQs4TcQiiIpk"
      },
      "source": [
        "**Vectorizing the inputs**\n",
        "\n",
        "Using Tfifd vectorizer and countvectorizer to convert the text corpus to input vectors. \n",
        "\n"
      ],
      "id": "JQs4TcQiiIpk"
    },
    {
      "cell_type": "code",
      "metadata": {
        "colab": {
          "base_uri": "https://localhost:8080/"
        },
        "id": "zviZD8sufFPP",
        "outputId": "5b4380e4-05c6-4ff9-9dd9-fde2eb8e5361"
      },
      "source": [
        "from sklearn.feature_extraction.text import CountVectorizer, TfidfVectorizer\n",
        "\n",
        "import nltk\n",
        "\n",
        "vectorizer = CountVectorizer(stop_words='english')\n",
        "vectors = vectorizer.fit_transform(newsgroup_train.data).todense()\n",
        "vectors.shape\n"
      ],
      "id": "zviZD8sufFPP",
      "execution_count": 26,
      "outputs": [
        {
          "output_type": "execute_result",
          "data": {
            "text/plain": [
              "(2034, 26576)"
            ]
          },
          "metadata": {},
          "execution_count": 26
        }
      ]
    },
    {
      "cell_type": "code",
      "metadata": {
        "colab": {
          "base_uri": "https://localhost:8080/"
        },
        "id": "98X_TZ3rhYmh",
        "outputId": "cd8efb7e-7478-47af-eb9e-4af1e4290842"
      },
      "source": [
        "print(len(vectors), vectors.shape)"
      ],
      "id": "98X_TZ3rhYmh",
      "execution_count": 27,
      "outputs": [
        {
          "output_type": "stream",
          "name": "stdout",
          "text": [
            "2034 (2034, 26576)\n"
          ]
        }
      ]
    },
    {
      "cell_type": "code",
      "metadata": {
        "id": "pioHwvoohd2o"
      },
      "source": [
        "vocab = np.array(vectorizer.get_feature_names())"
      ],
      "id": "pioHwvoohd2o",
      "execution_count": 28,
      "outputs": []
    },
    {
      "cell_type": "code",
      "metadata": {
        "colab": {
          "base_uri": "https://localhost:8080/"
        },
        "id": "vMl5GbP7hkyQ",
        "outputId": "ba756328-de9e-4400-e27a-d97b54b32978"
      },
      "source": [
        "vocab.shape"
      ],
      "id": "vMl5GbP7hkyQ",
      "execution_count": 29,
      "outputs": [
        {
          "output_type": "execute_result",
          "data": {
            "text/plain": [
              "(26576,)"
            ]
          },
          "metadata": {},
          "execution_count": 29
        }
      ]
    },
    {
      "cell_type": "code",
      "metadata": {
        "colab": {
          "base_uri": "https://localhost:8080/"
        },
        "id": "5gM-qouJhna9",
        "outputId": "897e5585-20d0-4280-e58a-b879688f517b"
      },
      "source": [
        "vocab[3000:3010]"
      ],
      "id": "5gM-qouJhna9",
      "execution_count": 30,
      "outputs": [
        {
          "output_type": "execute_result",
          "data": {
            "text/plain": [
              "array(['alexei', 'alexia', 'alexis', 'alfonso', 'alford', 'alfred', 'alg',\n",
              "       'algebraic', 'algebraically', 'algeria'], dtype='<U80')"
            ]
          },
          "metadata": {},
          "execution_count": 30
        }
      ]
    },
    {
      "cell_type": "markdown",
      "metadata": {
        "id": "oLMcVDetIBM0"
      },
      "source": [
        "**Using SVD to generate input matrices**"
      ],
      "id": "oLMcVDetIBM0"
    },
    {
      "cell_type": "code",
      "metadata": {
        "colab": {
          "base_uri": "https://localhost:8080/"
        },
        "id": "Gi9HAXzzhvmu",
        "outputId": "eade0464-8fb8-4beb-cf8d-3a4b6e324f64"
      },
      "source": [
        "%time U,s,vh = linalg.svd(vectors, full_matrices=False)"
      ],
      "id": "Gi9HAXzzhvmu",
      "execution_count": 31,
      "outputs": [
        {
          "output_type": "stream",
          "name": "stdout",
          "text": [
            "CPU times: user 1min 19s, sys: 4.84 s, total: 1min 24s\n",
            "Wall time: 43.7 s\n"
          ]
        }
      ]
    },
    {
      "cell_type": "code",
      "metadata": {
        "colab": {
          "base_uri": "https://localhost:8080/"
        },
        "id": "yJdGHAtIulAF",
        "outputId": "6f7e640a-fb18-466c-dcd3-280e8b4dca42"
      },
      "source": [
        "print(U.shape, s.shape, vh.shape)"
      ],
      "id": "yJdGHAtIulAF",
      "execution_count": 32,
      "outputs": [
        {
          "output_type": "stream",
          "name": "stdout",
          "text": [
            "(2034, 2034) (2034,) (2034, 26576)\n"
          ]
        }
      ]
    },
    {
      "cell_type": "code",
      "metadata": {
        "colab": {
          "base_uri": "https://localhost:8080/"
        },
        "id": "5wf4UMDcvCQ4",
        "outputId": "a421380e-99ca-4ece-f255-ae426279a829"
      },
      "source": [
        "#confirming the orthonormality of the 3 matrices\n",
        "reconstructed_vectors =  U @ np.diag(s) @ vh\n",
        "np.allclose(reconstructed_vectors,vectors)"
      ],
      "id": "5wf4UMDcvCQ4",
      "execution_count": 33,
      "outputs": [
        {
          "output_type": "execute_result",
          "data": {
            "text/plain": [
              "True"
            ]
          },
          "metadata": {},
          "execution_count": 33
        }
      ]
    },
    {
      "cell_type": "code",
      "metadata": {
        "colab": {
          "base_uri": "https://localhost:8080/"
        },
        "id": "zx-7hLT6vxCR",
        "outputId": "1420a4e4-2c5b-433b-9192-56978ede0084"
      },
      "source": [
        "#alternate way to find the orthonormality\n",
        "np.linalg.norm(reconstructed_vectors-vectors)\n",
        "np.allclose(reconstructed_vectors,vectors)"
      ],
      "id": "zx-7hLT6vxCR",
      "execution_count": 34,
      "outputs": [
        {
          "output_type": "execute_result",
          "data": {
            "text/plain": [
              "True"
            ]
          },
          "metadata": {},
          "execution_count": 34
        }
      ]
    },
    {
      "cell_type": "markdown",
      "metadata": {
        "id": "VJYNTy8VHvIY"
      },
      "source": [
        "**Testing Orthonormality**"
      ],
      "id": "VJYNTy8VHvIY"
    },
    {
      "cell_type": "code",
      "metadata": {
        "colab": {
          "base_uri": "https://localhost:8080/"
        },
        "id": "RtwxBYlvhsVm",
        "outputId": "b62d6d04-2710-4cf9-e74d-b085c471a7a9"
      },
      "source": [
        "np.allclose(U.T @ U, np.eye(U.shape[0]))\n",
        "np.allclose(vh @ vh.T, np.eye(vh.shape[0]))"
      ],
      "id": "RtwxBYlvhsVm",
      "execution_count": 35,
      "outputs": [
        {
          "output_type": "execute_result",
          "data": {
            "text/plain": [
              "True"
            ]
          },
          "metadata": {},
          "execution_count": 35
        }
      ]
    },
    {
      "cell_type": "markdown",
      "metadata": {
        "id": "m12zkk5rIRGn"
      },
      "source": [
        "**Plotting the singular values generated**"
      ],
      "id": "m12zkk5rIRGn"
    },
    {
      "cell_type": "code",
      "metadata": {
        "colab": {
          "base_uri": "https://localhost:8080/",
          "height": 282
        },
        "id": "HS1I8zT0zNhs",
        "outputId": "4f3bcc71-61ac-476c-fdb3-5ba8e38cf0a3"
      },
      "source": [
        "plt.plot(s)"
      ],
      "id": "HS1I8zT0zNhs",
      "execution_count": 36,
      "outputs": [
        {
          "output_type": "execute_result",
          "data": {
            "text/plain": [
              "[<matplotlib.lines.Line2D at 0x7fe53013a690>]"
            ]
          },
          "metadata": {},
          "execution_count": 36
        },
        {
          "output_type": "display_data",
          "data": {
            "image/png": "[encoded data removed]",
            "text/plain": [
              "<Figure size 432x288 with 1 Axes>"
            ]
          },
          "metadata": {
            "needs_background": "light"
          }
        }
      ]
    },
    {
      "cell_type": "code",
      "metadata": {
        "colab": {
          "base_uri": "https://localhost:8080/",
          "height": 282
        },
        "id": "qKrfb9iY2NpX",
        "outputId": "d3fa3fc5-0c9e-46c3-c342-e0a3be26bded"
      },
      "source": [
        "plt.plot(s[:10])"
      ],
      "id": "qKrfb9iY2NpX",
      "execution_count": 37,
      "outputs": [
        {
          "output_type": "execute_result",
          "data": {
            "text/plain": [
              "[<matplotlib.lines.Line2D at 0x7fe5300dd9d0>]"
            ]
          },
          "metadata": {},
          "execution_count": 37
        },
        {
          "output_type": "display_data",
          "data": {
            "image/png": "[encoded data removed]",
            "text/plain": [
              "<Figure size 432x288 with 1 Axes>"
            ]
          },
          "metadata": {
            "needs_background": "light"
          }
        }
      ]
    },
    {
      "cell_type": "markdown",
      "metadata": {
        "id": "RTRABOEuIZSl"
      },
      "source": [
        "**Checking the topics**\n"
      ],
      "id": "RTRABOEuIZSl"
    },
    {
      "cell_type": "code",
      "metadata": {
        "id": "sVGD4FHb2RNS"
      },
      "source": [
        "num_top_words=8\n",
        "\n",
        "def show_topics(a):\n",
        "    top_words = lambda t: [vocab[i] for i in np.argsort(t)[:-num_top_words-1:-1]]\n",
        "    topic_words = ([top_words(t) for t in a])\n",
        "    return [' '.join(t) for t in topic_words]"
      ],
      "id": "sVGD4FHb2RNS",
      "execution_count": 38,
      "outputs": []
    },
    {
      "cell_type": "code",
      "metadata": {
        "colab": {
          "base_uri": "https://localhost:8080/"
        },
        "id": "kr116YM_FYh2",
        "outputId": "c4eaa0a8-3f6c-4de7-8bbf-e2c41089139c"
      },
      "source": [
        "show_topics(vh[:10])"
      ],
      "id": "kr116YM_FYh2",
      "execution_count": 39,
      "outputs": [
        {
          "output_type": "execute_result",
          "data": {
            "text/plain": [
              "['ditto critus propagandist surname galacticentric kindergarten surreal imaginative',\n",
              " 'jpeg gif file color quality image jfif format',\n",
              " 'graphics edu pub mail 128 3d ray ftp',\n",
              " 'jesus god matthew people atheists atheism does graphics',\n",
              " 'image data processing analysis software available tools display',\n",
              " 'god atheists atheism religious believe religion argument true',\n",
              " 'space nasa lunar mars probe moon missions probes',\n",
              " 'image probe surface lunar mars probes moon orbit',\n",
              " 'argument fallacy conclusion example true ad argumentum premises',\n",
              " 'space larson image theory universe physical nasa material']"
            ]
          },
          "metadata": {},
          "execution_count": 39
        }
      ]
    },
    {
      "cell_type": "markdown",
      "metadata": {
        "id": "tUJEqrjZIxvj"
      },
      "source": [
        "**Topic Frequency and inverse document frequency (TF-IDF) approach to topic modeling**\n"
      ],
      "id": "tUJEqrjZIxvj"
    },
    {
      "cell_type": "code",
      "metadata": {
        "id": "gSIJAd8tFa5I"
      },
      "source": [
        "vectorizer_tfidf = TfidfVectorizer(stop_words='english')\n",
        "vectors_tfidf = vectorizer_tfidf.fit_transform(newsgroup_train.data)\n"
      ],
      "id": "gSIJAd8tFa5I",
      "execution_count": 40,
      "outputs": []
    },
    {
      "cell_type": "markdown",
      "metadata": {
        "id": "G3xX8Q1kI3if"
      },
      "source": [
        "**Fitting to NMF method to convert vectors to input matrices**"
      ],
      "id": "G3xX8Q1kI3if"
    },
    {
      "cell_type": "code",
      "metadata": {
        "id": "u1EqCci7OG_Y"
      },
      "source": [
        "m,n=vectors.shape\n",
        "d=5  # num topics\n",
        "\n",
        "clf = decomposition.NMF(n_components=d, random_state=1)\n",
        "W1 = clf.fit_transform(vectors_tfidf)\n",
        "H1 = clf.components_"
      ],
      "id": "u1EqCci7OG_Y",
      "execution_count": 41,
      "outputs": []
    },
    {
      "cell_type": "code",
      "metadata": {
        "colab": {
          "base_uri": "https://localhost:8080/"
        },
        "id": "qXg3YzaMOOaH",
        "outputId": "db94ac1c-9a1a-44b7-90f3-801f4c5caf85"
      },
      "source": [
        "show_topics(H1)"
      ],
      "id": "qXg3YzaMOOaH",
      "execution_count": 42,
      "outputs": [
        {
          "output_type": "execute_result",
          "data": {
            "text/plain": [
              "['people don think just like objective say morality',\n",
              " 'graphics thanks files image file program windows know',\n",
              " 'space nasa launch shuttle orbit moon lunar earth',\n",
              " 'ico bobbe tek beauchaine bronx manhattan sank queens',\n",
              " 'god jesus bible believe christian atheism does belief']"
            ]
          },
          "metadata": {},
          "execution_count": 42
        }
      ]
    },
    {
      "cell_type": "code",
      "metadata": {
        "colab": {
          "base_uri": "https://localhost:8080/",
          "height": 282
        },
        "id": "h74oi6peOQXL",
        "outputId": "1f1f2c24-7042-4906-c9f3-7f6c1dd9efd8"
      },
      "source": [
        "plt.plot(clf.components_[0])"
      ],
      "id": "h74oi6peOQXL",
      "execution_count": 43,
      "outputs": [
        {
          "output_type": "execute_result",
          "data": {
            "text/plain": [
              "[<matplotlib.lines.Line2D at 0x7fe52579f150>]"
            ]
          },
          "metadata": {},
          "execution_count": 43
        },
        {
          "output_type": "display_data",
          "data": {
            "image/png": "[encoded data removed]",
            "text/plain": [
              "<Figure size 432x288 with 1 Axes>"
            ]
          },
          "metadata": {
            "needs_background": "light"
          }
        }
      ]
    },
    {
      "cell_type": "code",
      "metadata": {
        "colab": {
          "base_uri": "https://localhost:8080/"
        },
        "id": "BpsN0pvPOcUY",
        "outputId": "661aa12b-dcc4-49cd-c913-c00a72a04ae3"
      },
      "source": [
        "clf.reconstruction_err_"
      ],
      "id": "BpsN0pvPOcUY",
      "execution_count": 44,
      "outputs": [
        {
          "output_type": "execute_result",
          "data": {
            "text/plain": [
              "43.712926057952785"
            ]
          },
          "metadata": {},
          "execution_count": 44
        }
      ]
    }
  ]
}